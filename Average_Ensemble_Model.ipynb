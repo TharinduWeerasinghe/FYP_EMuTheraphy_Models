{
 "cells": [
  {
   "cell_type": "code",
   "execution_count": 1,
   "id": "08fa967c",
   "metadata": {},
   "outputs": [],
   "source": [
    "import os\n",
    "import cv2\n",
    "import numpy as np\n",
    "import matplotlib.pyplot as plt\n",
    "import matplotlib.style as style\n",
    "import tensorflow as tf\n",
    "import pandas as pd\n",
    "\n",
    "from tensorflow import keras\n",
    "from tensorflow.keras.models import Sequential, Model, load_model\n",
    "from tensorflow.keras.layers import Activation, Dense, Flatten, Dropout, Input, Lambda, Conv2D, MaxPooling2D,BatchNormalization, Average\n",
    "from tensorflow.keras.optimizers import Adam\n",
    "from tensorflow.keras.preprocessing import image\n",
    "from tensorflow.keras.utils import plot_model"
   ]
  },
  {
   "cell_type": "code",
   "execution_count": 2,
   "id": "cf3166d9",
   "metadata": {},
   "outputs": [
    {
     "name": "stdout",
     "output_type": "stream",
     "text": [
      "(3926, 100, 100, 3)\n",
      "(982, 100, 100, 3)\n",
      "(3926, 6)\n",
      "(982, 6)\n"
     ]
    }
   ],
   "source": [
    "#get the train images from file location and add them to the numpy array\n",
    "image_dir = 'D:/FYP/RAF-ML/Images/allimages'\n",
    "\n",
    "target_size = (100, 100)\n",
    "\n",
    "train_images = np.zeros((3926, target_size[0], target_size[1], 3), dtype=np.uint8)\n",
    "test_images = np.zeros((982, target_size[0], target_size[1], 3), dtype=np.uint8)\n",
    "\n",
    "train_labels = np.zeros((3926, 6), dtype=np.uint8)\n",
    "test_labels = np.zeros((982, 6), dtype=np.uint8)\n",
    "\n",
    "i = 0\n",
    "j = 0\n",
    "\n",
    "with open('D:/FYP/RAF-ML/partition_label.txt') as f:\n",
    "    for line in f:\n",
    "        file_name, partition = line.strip().split()\n",
    "        image_name, image_ex = file_name.strip().split(\".\")\n",
    "        source = os.path.join(image_dir, image_name + \"_aligned.\" + image_ex)\n",
    "        if(partition == \"0\"):\n",
    "            image = cv2.imread(source)\n",
    "            image = cv2.resize(image, target_size)\n",
    "            image = cv2.cvtColor(image, cv2.COLOR_BGR2RGB)\n",
    "            train_images[i] = image\n",
    "            with open('D:/FYP/RAF-ML/multilabel.txt', 'r') as f:\n",
    "                lines = f.readlines()\n",
    "                for line in lines:\n",
    "                    values = line.split()\n",
    "                    if(values[0]== file_name):\n",
    "                        train_labels[i] = [int(val) for val in values[1:]]      \n",
    "                i = i + 1\n",
    "        else:\n",
    "            image = cv2.imread(source)\n",
    "            image = cv2.resize(image, target_size)\n",
    "            image = cv2.cvtColor(image, cv2.COLOR_BGR2RGB)\n",
    "            test_images[j] = image\n",
    "            with open('D:/FYP/RAF-ML/multilabel.txt', 'r') as f:\n",
    "                lines = f.readlines()\n",
    "                for line in lines:\n",
    "                    values = line.split()\n",
    "                    if(values[0]== file_name):\n",
    "                        test_labels[j] = [int(val) for val in values[1:]]   \n",
    "            j = j + 1\n",
    "\n",
    "\n",
    "print(train_images.shape)\n",
    "print(test_images.shape)\n",
    "\n",
    "print(train_labels.shape)\n",
    "print(test_labels.shape)"
   ]
  },
  {
   "cell_type": "code",
   "execution_count": 3,
   "id": "80240d95",
   "metadata": {},
   "outputs": [],
   "source": [
    "height = 100\n",
    "width = 100\n",
    "class_no = 6\n",
    "categories = ['Surprise', 'Fear', 'Disgust', 'Happiness', 'Sadness', 'Anger']"
   ]
  },
  {
   "cell_type": "code",
   "execution_count": null,
   "id": "0ef8f846",
   "metadata": {},
   "outputs": [],
   "source": []
  },
  {
   "cell_type": "code",
   "execution_count": 4,
   "id": "a795f814",
   "metadata": {},
   "outputs": [],
   "source": [
    "model_1 = load_model('ResNet50_Model.h5')\n",
    "model_2 = load_model('Vgg19_Model.h5')"
   ]
  },
  {
   "cell_type": "code",
   "execution_count": 5,
   "id": "b98c7513",
   "metadata": {},
   "outputs": [],
   "source": [
    "for layer in model_1.layers:\n",
    "    layer.trainable = False\n",
    "    layer._name = 'e_m_1_' + layer.name\n",
    "for layer in model_2.layers:\n",
    "    layer.trainable = False\n",
    "    layer._name = 'e_m_2_' + layer.name"
   ]
  },
  {
   "cell_type": "code",
   "execution_count": 6,
   "id": "dede3830",
   "metadata": {},
   "outputs": [],
   "source": [
    "output_1 = model_1.layers[-2].output\n",
    "output_2 = model_2.layers[-2].output"
   ]
  },
  {
   "cell_type": "code",
   "execution_count": 7,
   "id": "d5d99973",
   "metadata": {},
   "outputs": [],
   "source": [
    "ensemble_output = tf.keras.layers.Average()([output_1, output_2])\n",
    "dense_layer = Dense(64, activation='relu')(ensemble_output)\n",
    "output = Dense(6, activation='sigmoid')(dense_layer)\n",
    "ensemble_model = Model(inputs=[model_1.input, model_2.input], outputs=output)"
   ]
  },
  {
   "cell_type": "code",
   "execution_count": 8,
   "id": "e193612a",
   "metadata": {},
   "outputs": [
    {
     "name": "stdout",
     "output_type": "stream",
     "text": [
      "Model: \"model\"\n",
      "__________________________________________________________________________________________________\n",
      " Layer (type)                   Output Shape         Param #     Connected to                     \n",
      "==================================================================================================\n",
      " lambda_1_input (InputLayer)    [(None, 100, 100, 3  0           []                               \n",
      "                                )]                                                                \n",
      "                                                                                                  \n",
      " e_m_2_lambda_1 (Lambda)        (None, 100, 100, 3)  0           ['lambda_1_input[0][0]']         \n",
      "                                                                                                  \n",
      " e_m_2_vgg19 (Functional)       (None, 512)          20024384    ['e_m_2_lambda_1[0][0]']         \n",
      "                                                                                                  \n",
      " lambda_input (InputLayer)      [(None, 100, 100, 3  0           []                               \n",
      "                                )]                                                                \n",
      "                                                                                                  \n",
      " e_m_2_flatten_1 (Flatten)      (None, 512)          0           ['e_m_2_vgg19[0][0]']            \n",
      "                                                                                                  \n",
      " e_m_1_lambda (Lambda)          (None, 100, 100, 3)  0           ['lambda_input[0][0]']           \n",
      "                                                                                                  \n",
      " e_m_2_dense_3 (Dense)          (None, 256)          131328      ['e_m_2_flatten_1[0][0]']        \n",
      "                                                                                                  \n",
      " e_m_1_resnet50 (Functional)    (None, 2048)         23587712    ['e_m_1_lambda[0][0]']           \n",
      "                                                                                                  \n",
      " e_m_2_batch_normalization_3 (B  (None, 256)         1024        ['e_m_2_dense_3[0][0]']          \n",
      " atchNormalization)                                                                               \n",
      "                                                                                                  \n",
      " e_m_1_flatten (Flatten)        (None, 2048)         0           ['e_m_1_resnet50[0][0]']         \n",
      "                                                                                                  \n",
      " e_m_2_dropout_3 (Dropout)      (None, 256)          0           ['e_m_2_batch_normalization_3[0][\n",
      "                                                                 0]']                             \n",
      "                                                                                                  \n",
      " e_m_1_dense (Dense)            (None, 128)          262272      ['e_m_1_flatten[0][0]']          \n",
      "                                                                                                  \n",
      " e_m_2_dense_4 (Dense)          (None, 128)          32896       ['e_m_2_dropout_3[0][0]']        \n",
      "                                                                                                  \n",
      " e_m_1_batch_normalization (Bat  (None, 128)         512         ['e_m_1_dense[0][0]']            \n",
      " chNormalization)                                                                                 \n",
      "                                                                                                  \n",
      " e_m_2_batch_normalization_4 (B  (None, 128)         512         ['e_m_2_dense_4[0][0]']          \n",
      " atchNormalization)                                                                               \n",
      "                                                                                                  \n",
      " e_m_1_dropout (Dropout)        (None, 128)          0           ['e_m_1_batch_normalization[0][0]\n",
      "                                                                 ']                               \n",
      "                                                                                                  \n",
      " e_m_2_dropout_4 (Dropout)      (None, 128)          0           ['e_m_2_batch_normalization_4[0][\n",
      "                                                                 0]']                             \n",
      "                                                                                                  \n",
      " e_m_1_dense_1 (Dense)          (None, 64)           8256        ['e_m_1_dropout[0][0]']          \n",
      "                                                                                                  \n",
      " e_m_2_dense_5 (Dense)          (None, 64)           8256        ['e_m_2_dropout_4[0][0]']        \n",
      "                                                                                                  \n",
      " e_m_1_batch_normalization_1 (B  (None, 64)          256         ['e_m_1_dense_1[0][0]']          \n",
      " atchNormalization)                                                                               \n",
      "                                                                                                  \n",
      " e_m_2_batch_normalization_5 (B  (None, 64)          256         ['e_m_2_dense_5[0][0]']          \n",
      " atchNormalization)                                                                               \n",
      "                                                                                                  \n",
      " e_m_1_dropout_1 (Dropout)      (None, 64)           0           ['e_m_1_batch_normalization_1[0][\n",
      "                                                                 0]']                             \n",
      "                                                                                                  \n",
      " e_m_2_dropout_5 (Dropout)      (None, 64)           0           ['e_m_2_batch_normalization_5[0][\n",
      "                                                                 0]']                             \n",
      "                                                                                                  \n",
      " e_m_1_dense_2 (Dense)          (None, 32)           2080        ['e_m_1_dropout_1[0][0]']        \n",
      "                                                                                                  \n",
      " e_m_2_dense_6 (Dense)          (None, 32)           2080        ['e_m_2_dropout_5[0][0]']        \n",
      "                                                                                                  \n",
      " e_m_1_batch_normalization_2 (B  (None, 32)          128         ['e_m_1_dense_2[0][0]']          \n",
      " atchNormalization)                                                                               \n",
      "                                                                                                  \n",
      " e_m_2_batch_normalization_6 (B  (None, 32)          128         ['e_m_2_dense_6[0][0]']          \n",
      " atchNormalization)                                                                               \n",
      "                                                                                                  \n",
      " e_m_1_dropout_2 (Dropout)      (None, 32)           0           ['e_m_1_batch_normalization_2[0][\n",
      "                                                                 0]']                             \n",
      "                                                                                                  \n",
      " e_m_2_dropout_6 (Dropout)      (None, 32)           0           ['e_m_2_batch_normalization_6[0][\n",
      "                                                                 0]']                             \n",
      "                                                                                                  \n",
      " average (Average)              (None, 32)           0           ['e_m_1_dropout_2[0][0]',        \n",
      "                                                                  'e_m_2_dropout_6[0][0]']        \n",
      "                                                                                                  \n",
      " dense (Dense)                  (None, 64)           2112        ['average[0][0]']                \n",
      "                                                                                                  \n",
      " dense_1 (Dense)                (None, 6)            390         ['dense[0][0]']                  \n"
     ]
    },
    {
     "name": "stdout",
     "output_type": "stream",
     "text": [
      "                                                                                                  \n",
      "==================================================================================================\n",
      "Total params: 44,064,582\n",
      "Trainable params: 2,502\n",
      "Non-trainable params: 44,062,080\n",
      "__________________________________________________________________________________________________\n"
     ]
    }
   ],
   "source": [
    "ensemble_model.summary()"
   ]
  },
  {
   "cell_type": "code",
   "execution_count": 9,
   "id": "819d8507",
   "metadata": {},
   "outputs": [],
   "source": [
    "ensemble_model.compile(optimizer=Adam(learning_rate=0.1),loss='binary_crossentropy',metrics=['accuracy'])"
   ]
  },
  {
   "cell_type": "code",
   "execution_count": 13,
   "id": "7a161844",
   "metadata": {},
   "outputs": [
    {
     "name": "stdout",
     "output_type": "stream",
     "text": [
      "Epoch 1/5\n",
      "62/62 [==============================] - 279s 5s/step - loss: 0.5167 - accuracy: 0.7028 - val_loss: 0.5343 - val_accuracy: 0.6802\n",
      "Epoch 2/5\n",
      "62/62 [==============================] - 292s 5s/step - loss: 0.5216 - accuracy: 0.6905 - val_loss: 0.5288 - val_accuracy: 0.6884\n",
      "Epoch 3/5\n",
      "62/62 [==============================] - 286s 5s/step - loss: 0.5217 - accuracy: 0.7017 - val_loss: 0.5256 - val_accuracy: 0.6965\n",
      "Epoch 4/5\n",
      "62/62 [==============================] - 285s 5s/step - loss: 0.5203 - accuracy: 0.6913 - val_loss: 0.5222 - val_accuracy: 0.6843\n",
      "Epoch 5/5\n",
      "62/62 [==============================] - 283s 5s/step - loss: 0.5196 - accuracy: 0.6997 - val_loss: 0.5264 - val_accuracy: 0.7057\n"
     ]
    }
   ],
   "source": [
    "Ensemble_train = ensemble_model.fit(\n",
    "    [train_images, train_images],\n",
    "    train_labels, \n",
    "    epochs=5,\n",
    "    batch_size = 64,\n",
    "    validation_data=([test_images,test_images], test_labels)\n",
    ")"
   ]
  },
  {
   "cell_type": "code",
   "execution_count": null,
   "id": "1942e623",
   "metadata": {},
   "outputs": [],
   "source": []
  },
  {
   "cell_type": "code",
   "execution_count": 14,
   "id": "3bc781fb",
   "metadata": {},
   "outputs": [
    {
     "data": {
      "image/png": "[encoded data removed]",
      "text/plain": [
       "<Figure size 640x480 with 1 Axes>"
      ]
     },
     "metadata": {},
     "output_type": "display_data"
    },
    {
     "data": {
      "image/png": "[encoded data removed]",
      "text/plain": [
       "<Figure size 640x480 with 1 Axes>"
      ]
     },
     "metadata": {},
     "output_type": "display_data"
    }
   ],
   "source": [
    "loss = Ensemble_train.history['loss']\n",
    "acc = Ensemble_train.history['accuracy']\n",
    "val_loss = Ensemble_train.history['val_loss']\n",
    "val_acc = Ensemble_train.history['val_accuracy']\n",
    "epochs = range(1, len(acc) + 1)\n",
    "\n",
    "# plot the training and validation loss\n",
    "plt.plot(epochs, loss, 'r', label='Training loss')\n",
    "plt.plot(epochs, val_loss, 'b', label='Validation loss')\n",
    "plt.title('Training and validation loss')\n",
    "plt.axis(ymin=0.1,ymax=1)\n",
    "plt.xlabel('Epochs')\n",
    "plt.ylabel('Loss')\n",
    "plt.legend()\n",
    "plt.show()\n",
    "\n",
    "# plot the training and validation accuracy\n",
    "plt.plot(epochs, acc, 'r', label='Training accuracy')\n",
    "plt.plot(epochs, val_acc, 'b', label='Validation accuracy')\n",
    "plt.title('Training and validation accuracy')\n",
    "plt.axis(ymin=0.1,ymax=1)\n",
    "plt.xlabel('Epochs')\n",
    "plt.ylabel('Accuracy')\n",
    "plt.legend()\n",
    "plt.show()"
   ]
  },
  {
   "cell_type": "code",
   "execution_count": null,
   "id": "d7921461",
   "metadata": {},
   "outputs": [],
   "source": []
  },
  {
   "cell_type": "code",
   "execution_count": 20,
   "id": "23501432",
   "metadata": {},
   "outputs": [
    {
     "name": "stdout",
     "output_type": "stream",
     "text": [
      "31/31 [==============================] - 51s 2s/step\n",
      "              precision    recall  f1-score   support\n",
      "\n",
      "    Surprise       0.74      0.67      0.71       408\n",
      "        Fear       0.69      0.37      0.48       232\n",
      "     Disgust       0.80      0.84      0.82       539\n",
      "   Happiness       0.69      0.09      0.15       258\n",
      "     Sadness       0.48      0.14      0.22       343\n",
      "       Anger       0.73      0.06      0.12       384\n",
      "\n",
      "   micro avg       0.74      0.42      0.54      2164\n",
      "   macro avg       0.69      0.36      0.42      2164\n",
      "weighted avg       0.70      0.42      0.46      2164\n",
      " samples avg       0.73      0.43      0.52      2164\n",
      "\n"
     ]
    },
    {
     "name": "stderr",
     "output_type": "stream",
     "text": [
      "D:\\Applications\\anaconda3\\lib\\site-packages\\sklearn\\metrics\\_classification.py:1318: UndefinedMetricWarning: Precision and F-score are ill-defined and being set to 0.0 in samples with no predicted labels. Use `zero_division` parameter to control this behavior.\n",
      "  _warn_prf(average, modifier, msg_start, len(result))\n"
     ]
    }
   ],
   "source": [
    "from sklearn.metrics import classification_report\n",
    "\n",
    "\n",
    "predictions = ensemble_model.predict([test_images, test_images])\n",
    "\n",
    "predictions = (predictions > 0.5).astype(int)\n",
    "\n",
    "report = classification_report(test_labels, predictions, target_names=categories)\n",
    "\n",
    "# print the report\n",
    "print(report)\n"
   ]
  },
  {
   "cell_type": "code",
   "execution_count": null,
   "id": "0988b18a",
   "metadata": {},
   "outputs": [],
   "source": []
  },
  {
   "cell_type": "code",
   "execution_count": 18,
   "id": "039140e9",
   "metadata": {},
   "outputs": [
    {
     "name": "stdout",
     "output_type": "stream",
     "text": [
      "Hamming Loss: 0.2671418873048201\n"
     ]
    }
   ],
   "source": [
    "from sklearn.metrics import hamming_loss\n",
    "\n",
    "hl = hamming_loss(test_labels, predictions)\n",
    "print(\"Hamming Loss:\", hl)"
   ]
  },
  {
   "cell_type": "code",
   "execution_count": null,
   "id": "b7117495",
   "metadata": {},
   "outputs": [],
   "source": []
  },
  {
   "cell_type": "code",
   "execution_count": 19,
   "id": "1b4865c8",
   "metadata": {},
   "outputs": [],
   "source": [
    "ensemble_model.save(\"Ensemble_Avarage.h5\")"
   ]
  },
  {
   "cell_type": "code",
   "execution_count": null,
   "id": "9c1b758b",
   "metadata": {},
   "outputs": [],
   "source": []
  },
  {
   "cell_type": "code",
   "execution_count": 33,
   "id": "9efc9e6a",
   "metadata": {},
   "outputs": [
    {
     "name": "stdout",
     "output_type": "stream",
     "text": [
      "1/1 [==============================] - 1s 1s/step\n",
      "Surprise, Happiness\n"
     ]
    },
    {
     "data": {
      "image/png": "[encoded data removed]",
      "text/plain": [
       "<Figure size 640x480 with 1 Axes>"
      ]
     },
     "metadata": {},
     "output_type": "display_data"
    }
   ],
   "source": [
    "import tensorflow as tf\n",
    "import numpy as np\n",
    "\n",
    "from tensorflow.keras.preprocessing import image\n",
    "from tensorflow.keras.models import load_model\n",
    "import matplotlib.pyplot as plt\n",
    "\n",
    "categories = ['Surprise', 'Fear', 'Disgust', 'Happiness', 'Sadness', 'Anger']\n",
    "\n",
    "model = load_model('Ensemble_v2.h5')\n",
    "#img_path = 'C:/Users/User/Downloads/face3.jpg'\n",
    "img_path = 'D:/FYP/RAF-ML/Images/allimages/0008_aligned.jpg'\n",
    "\n",
    "img = tf.keras.utils.load_img(img_path, target_size=(100, 100))\n",
    "x = tf.keras.utils.img_to_array(img)\n",
    "x = np.expand_dims(x, axis=0)\n",
    "preds = model.predict([x,x])\n",
    "\n",
    "threshold = 0.4\n",
    "labels = []\n",
    "for i, prob in enumerate(preds[0]):\n",
    "    if prob > threshold:\n",
    "        labels.append(categories[i])\n",
    "\n",
    "if len(labels) > 0:\n",
    "    result = ', '.join(labels)\n",
    "else:\n",
    "    result = \"Invalid image\"\n",
    "plt.imshow(img)\n",
    "print(result)"
   ]
  },
  {
   "cell_type": "code",
   "execution_count": null,
   "id": "e59c0c89",
   "metadata": {},
   "outputs": [],
   "source": []
  },
  {
   "cell_type": "code",
   "execution_count": 22,
   "id": "6a00c5cf",
   "metadata": {},
   "outputs": [
    {
     "name": "stdout",
     "output_type": "stream",
     "text": [
      "F1 Score: 0.5225390359809912\n"
     ]
    }
   ],
   "source": [
    "from sklearn.metrics import f1_score\n",
    "\n",
    "f1 = f1_score(test_labels, predictions, average='samples')\n",
    "print(\"F1 Score:\", f1)"
   ]
  },
  {
   "cell_type": "code",
   "execution_count": null,
   "id": "c94b718d",
   "metadata": {},
   "outputs": [],
   "source": []
  }
 ],
 "metadata": {
  "kernelspec": {
   "display_name": "Python 3 (ipykernel)",
   "language": "python",
   "name": "python3"
  },
  "language_info": {
   "codemirror_mode": {
    "name": "ipython",
    "version": 3
   },
   "file_extension": ".py",
   "mimetype": "text/x-python",
   "name": "python",
   "nbconvert_exporter": "python",
   "pygments_lexer": "ipython3",
   "version": "3.9.13"
  }
 },
 "nbformat": 4,
 "nbformat_minor": 5
}
